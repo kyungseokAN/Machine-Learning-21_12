{
 "cells": [
  {
   "cell_type": "markdown",
   "metadata": {},
   "source": [
    "scikit-learn에서 데이터는 대문자 X로 표시하고, 레이블은 소문자 y로 표기하는 것은 수학에서 함수의 입력을 x, 출력을 y로 나타내는 표준 공식 f(x) = y에서 유리된 것입니다. 수학의 표기 방식을 따르되, 데이터는 2차원 배열(행렬)이므로 대문자 X를, 타깃은 1차원 배열(벡터)이므로 소문자 y를 사용합니다."
   ]
  },
  {
   "cell_type": "code",
   "execution_count": null,
   "metadata": {},
   "outputs": [],
   "source": []
  }
 ],
 "metadata": {
  "language_info": {
   "name": "python"
  },
  "orig_nbformat": 4
 },
 "nbformat": 4,
 "nbformat_minor": 2
}
