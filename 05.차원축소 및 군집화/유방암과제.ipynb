{
 "cells": [
  {
   "cell_type": "markdown",
   "metadata": {},
   "source": [
    "유방암 데이터\n",
    "\n",
    "10, 5, 2 차원으로 차원축소\n",
    "원본과 차원축소한 데이터의 분류 정확도 측정\n",
    "2차원으로 축소한 것은 시각화\n",
    "군집화하기\n",
    "군집화 성능 평가"
   ]
  },
  {
   "cell_type": "code",
   "execution_count": null,
   "metadata": {},
   "outputs": [],
   "source": [
    "import numpy as np\n",
    "import pandas as pd \n",
    "import matplotlib.pyplot as plt"
   ]
  },
  {
   "cell_type": "markdown",
   "metadata": {},
   "source": [
    "데이터 정규화"
   ]
  },
  {
   "cell_type": "code",
   "execution_count": null,
   "metadata": {},
   "outputs": [],
   "source": [
    "from sklearn.datasets import load_breast_cancer\n",
    "cancer = load_breast_cancer()\n",
    "df = pd.DataFrame(cancer.data, columns=cancer.feature_names)\n",
    "df['target'] = cancer.target\n",
    "df.head(3)"
   ]
  },
  {
   "cell_type": "code",
   "execution_count": null,
   "metadata": {},
   "outputs": [],
   "source": [
    "from sklearn.preprocessing import StandardScaler\n",
    "cancer_std = StandardScaler().fit_transform(cancer.data)"
   ]
  },
  {
   "cell_type": "markdown",
   "metadata": {},
   "source": [
    "차원 축소"
   ]
  },
  {
   "cell_type": "code",
   "execution_count": null,
   "metadata": {},
   "outputs": [],
   "source": [
    "from sklearn.decomposition import PCA\n",
    "pca2 = PCA(n_components=2)\n",
    "pca5 = PCA(n_components=5)\n",
    "pca10 = PCA(n_components=10)"
   ]
  },
  {
   "cell_type": "code",
   "execution_count": null,
   "metadata": {},
   "outputs": [],
   "source": [
    "cancer_pca2 = pca2.fit_transform(cancer_std)\n",
    "cancer_pca5 = pca5.fit_transform(cancer_std)\n",
    "cancer_pca10 = pca10.fit_transform(cancer_std)"
   ]
  },
  {
   "cell_type": "markdown",
   "metadata": {},
   "source": [
    "분류 정확도"
   ]
  },
  {
   "cell_type": "code",
   "execution_count": null,
   "metadata": {},
   "outputs": [],
   "source": [
    "from sklearn.model_selection import train_test_split\n",
    "from sklearn.linear_model import LogisticRegression"
   ]
  },
  {
   "cell_type": "code",
   "execution_count": null,
   "metadata": {},
   "outputs": [],
   "source": [
    "# 정규화된 오리지널 데이터\n",
    "X_train, X_test, y_train, y_test = train_test_split(\n",
    "    cancer_std, cancer.target, stratify=cancer.target, random_state=2021\n",
    ")\n",
    "lrc = LogisticRegression(random_state=2021)\n",
    "lrc.fit(X_train, y_train)\n",
    "lrc.score(X_test, y_test)"
   ]
  },
  {
   "cell_type": "code",
   "execution_count": null,
   "metadata": {},
   "outputs": [],
   "source": [
    "0.993006993006993\n",
    "def pca_accuracy(X, y):\n",
    "    X_train, X_test, y_train, y_test = train_test_split(\n",
    "        X, y, stratify=y, random_state=2021\n",
    "    )\n",
    "    lrc = LogisticRegression(random_state=2021)\n",
    "    lrc.fit(X_train, y_train)\n",
    "    score = lrc.score(X_test, y_test)\n",
    "    return np.round(score, 4)"
   ]
  },
  {
   "cell_type": "code",
   "execution_count": null,
   "metadata": {},
   "outputs": [],
   "source": [
    "print('PCA 2 정확도:', pca_accuracy(cancer_pca2, cancer.target))\n",
    "print('PCA 5 정확도:', pca_accuracy(cancer_pca5, cancer.target))\n",
    "print('PCA 10 정확도:', pca_accuracy(cancer_pca10, cancer.target))\n",
    "print('원데이터 정확도:', pca_accuracy(cancer_std, cancer.target))"
   ]
  },
  {
   "cell_type": "markdown",
   "metadata": {},
   "source": [
    "globals() : 전역 변수를 딕셔너리에 담아두기"
   ]
  },
  {
   "cell_type": "code",
   "execution_count": null,
   "metadata": {},
   "outputs": [],
   "source": [
    "for dim in [2,5,10]:\n",
    "    globals()[f'pca{dim}'] = PCA(n_components=dim)\n",
    "    globals()[f'cancer_pca{dim}'] = globals()[f'pca{dim}'].fit_transform(cancer_std)\n",
    "    acc = pca_accuracy(globals()[f'cancer_pca{dim}'], cancer.target)\n",
    "    print(f'PCA {dim} 정확도: {acc}')\n",
    "print('원데이터 정확도:', pca_accuracy(cancer_std, cancer.target))"
   ]
  },
  {
   "cell_type": "markdown",
   "metadata": {},
   "source": [
    "군집화"
   ]
  },
  {
   "cell_type": "code",
   "execution_count": null,
   "metadata": {},
   "outputs": [],
   "source": [
    "from sklearn.cluster import KMeans\n",
    "kmeans = KMeans(n_clusters=2, random_state=2021)\n",
    "kmeans.fit(cancer_std)\n",
    "df['cluster'] = kmeans.labels_"
   ]
  },
  {
   "cell_type": "code",
   "execution_count": null,
   "metadata": {},
   "outputs": [],
   "source": [
    "df = df[['target','cluster']]\n",
    "df['PC1'] = cancer_pca2[:,0]\n",
    "df['PC2'] = cancer_pca2[:,1]\n",
    "df.head(3)"
   ]
  },
  {
   "cell_type": "code",
   "execution_count": null,
   "metadata": {},
   "outputs": [],
   "source": [
    "#시각화하기\n",
    "fig, axs = plt.subplots(nrows=1, ncols=2, figsize=(12,4))\n",
    "for k, column in enumerate(['target','cluster']):\n",
    "    ax = axs[k]\n",
    "    for i, marker in enumerate(['^','o']):\n",
    "        x_axis_data = df[df[column] == i]['PC1']\n",
    "        y_axis_data = df[df[column] == i]['PC2']\n",
    "        ax.scatter(x_axis_data, y_axis_data, marker=marker, label=cancer.target_names[i])\n",
    "\n",
    "    if k == 0:          # Original\n",
    "        ax.set_title('Original data', fontsize=15)\n",
    "        ax.set_ylabel('PCA Component 2')\n",
    "        ax.legend()\n",
    "    else:               # Cluster\n",
    "        ax.set_title('Clustered data', fontsize=15)\n",
    "    ax.set_xlabel('PCA Component 1')\n",
    "plt.show()"
   ]
  },
  {
   "cell_type": "code",
   "execution_count": null,
   "metadata": {},
   "outputs": [],
   "source": [
    "from sklearn.metrics import silhouette_score\n",
    "silhouette_score(cancer_std, df.cluster)"
   ]
  },
  {
   "cell_type": "code",
   "execution_count": null,
   "metadata": {},
   "outputs": [],
   "source": [
    "from visualize import visualize_silhouette\n",
    "visualize_silhouette([2,3], cancer.data)"
   ]
  }
 ],
 "metadata": {
  "language_info": {
   "name": "python"
  },
  "orig_nbformat": 4
 },
 "nbformat": 4,
 "nbformat_minor": 2
}
